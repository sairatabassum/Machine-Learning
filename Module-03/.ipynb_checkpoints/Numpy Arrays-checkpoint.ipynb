{
 "cells": [
  {
   "cell_type": "markdown",
   "id": "6db24a40",
   "metadata": {},
   "source": [
    "# Numpy - Numerical Python\n",
    "\n",
    "Advantages of Numpy Arrays:\n",
    "1. Allows several mathematical Operations\n",
    "2. Faster Operations"
   ]
  },
  {
   "cell_type": "code",
   "execution_count": 1,
   "id": "974a5656",
   "metadata": {},
   "outputs": [],
   "source": [
    "import numpy as np"
   ]
  },
  {
   "cell_type": "markdown",
   "id": "c6569128",
   "metadata": {},
   "source": [
    "List vs Numpy\n"
   ]
  }
 ],
 "metadata": {
  "kernelspec": {
   "display_name": "Python 3",
   "language": "python",
   "name": "python3"
  },
  "language_info": {
   "codemirror_mode": {
    "name": "ipython",
    "version": 3
   },
   "file_extension": ".py",
   "mimetype": "text/x-python",
   "name": "python",
   "nbconvert_exporter": "python",
   "pygments_lexer": "ipython3",
   "version": "3.8.8"
  }
 },
 "nbformat": 4,
 "nbformat_minor": 5
}
